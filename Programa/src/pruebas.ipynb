{
 "metadata": {
  "language_info": {
   "codemirror_mode": {
    "name": "ipython",
    "version": 3
   },
   "file_extension": ".py",
   "mimetype": "text/x-python",
   "name": "python",
   "nbconvert_exporter": "python",
   "pygments_lexer": "ipython3",
   "version": "3.7.4-final"
  },
  "orig_nbformat": 2,
  "kernelspec": {
   "name": "python3",
   "display_name": "Python 3",
   "language": "python"
  }
 },
 "nbformat": 4,
 "nbformat_minor": 2,
 "cells": [
  {
   "source": [
    "PREPROCESAMIENTO DE LOS DATOS"
   ],
   "cell_type": "markdown",
   "metadata": {}
  },
  {
   "cell_type": "code",
   "execution_count": 1,
   "metadata": {},
   "outputs": [],
   "source": [
    "# PREPROCESAMIENTO DE LOS DATOS\n",
    "\n",
    "from sklearn.model_selection import train_test_split\n",
    "from sklearn.feature_extraction.text import TfidfVectorizer\n",
    "from sklearn.feature_extraction.text import CountVectorizer\n",
    "from nltk.tokenize import word_tokenize\n",
    "from nltk.stem import WordNetLemmatizer\n",
    "from nltk.stem import SnowballStemmer\n",
    "from nltk.corpus import stopwords\n",
    "import re\n",
    "import pandas as pd\n",
    "import numpy as np\n",
    "import os\n",
    "\n",
    "\n",
    "def load_texts(directory, category, textos=[], y=[]):\n",
    "    names = os.listdir(directory)\n",
    "    for n in names:\n",
    "        file = open(directory+'/'+n, \"r\", encoding='utf-8', errors='ignore')\n",
    "        textos.append(file.read())\n",
    "        y.append(category)\n",
    "    return textos, y\n",
    "\n",
    "\n",
    "def token_stop_stem_lower(texts):\n",
    "    spanish_stemmer = SnowballStemmer('spanish')\n",
    "    esp_stops = set(stopwords.words('spanish'))\n",
    "    processed_texts = []\n",
    "    for x in texts:\n",
    "        # tokenizo cada texto por palabras\n",
    "        word_tokens = word_tokenize(x)\n",
    "        word_stopw = []\n",
    "        word_stemmed = []\n",
    "\n",
    "        # filtro el texto quitando los stopwords\n",
    "        for token in word_tokens:\n",
    "            if token not in esp_stops:\n",
    "                word_stopw.append(token)\n",
    "\n",
    "        for token in word_stopw:\n",
    "            # stemizo cada palabra suelta\n",
    "            word_stemmed.append(spanish_stemmer.stem(token))\n",
    "        # junto todas las palabras stemizadas separadas por espacios\n",
    "        text_stemmed = ' '.join(word_stemmed)\n",
    "        # lo pongo todo en minúsculas\n",
    "        text_stemmed = text_stemmed.lower()\n",
    "        # añado el texto procesado a mi array processed_texts\n",
    "        processed_texts.append(text_stemmed)\n",
    "    return processed_texts\n",
    "\n",
    "\n",
    "def cv_ocurrences(processed_texts):\n",
    "    # COUNT VECTORIZER (BAG OF WORDS)\n",
    "    # creo el countvectorizer con ocurrencia máxima del 95% y mínima del 5%\n",
    "    cv = CountVectorizer(max_df=0.95, min_df=0.05)\n",
    "    # creo mi array X con la información del countvectorizer dentro y los processed_texts como datos de entrada\n",
    "    X = cv.fit_transform(processed_texts).toarray()\n",
    "    # genero un dataframe para ver los datos generados en la matriz\n",
    "    return pd.DataFrame(X, columns=cv.get_feature_names())\n",
    "\n",
    "\n",
    "def cv_TFIDF(processed_texts):\n",
    "    # TF-IDF VECTORIZER\n",
    "    # creo el TF-IDF vectorizer con ocurrencia máxima del 95% y mínima del 5%\n",
    "    cv_tfidf = TfidfVectorizer(max_df=0.95, min_df=0.05)\n",
    "    # creo mi array X_tfidf con la información del TF-IDF vectorizer dentro y los processed_texts como datos de entrada\n",
    "    X_tfidf = cv_tfidf.fit_transform(processed_texts).toarray()\n",
    "    # genero un dataframe para ver los datos generados en la matriz\n",
    "    return pd.DataFrame(X_tfidf, columns=cv_tfidf.get_feature_names())"
   ]
  },
  {
   "cell_type": "code",
   "execution_count": 2,
   "metadata": {
    "tags": [
     "outputPrepend"
    ]
   },
   "outputs": [
    {
     "output_type": "stream",
     "name": "stdout",
     "text": [
      "st person infect hac , men , dos tres seman . desd entonc , virus propag fuerz mayor 80 años , vulner covid-19 . este grup edad segund incident ( 296,5 cas 100.000 habit 14 dias , segun ultim dat consolid institut salud carl iii ) , sol detras 15 29 años ( 316,6 ) . es tendenci agudiz ultim seman , junt crecimient cas general , tod poblacion , explic sub muert españ . sanid notific seman medi 232 fallec nuev dia , nivel principi may . lo suced , segun explic jos august garc navarr , president socied español geriatr gerontolog , inici segund ola , cas incipient mayoritari joven , mayor proteg . per conform aument transmision comunitari dificil fren acab entrand entorn viv ancian , inclu resident , palabr , “ cald cultiv perfect propag virus ” . segun dat propi ministeri sanid , seman produjeron 137 brot resident , 9 % total , viv supon pen 0,8 % poblacion . esto quier dec afect 10 vec superior . convien matiz centr vigil consider brot bast cas resident , mientr necesari tres mism domicili ambit . per si mir tamañ brot , numer cas medi siet , mientr resident asciend dobl . “ una vez virus entra , traves visit trabaj , propag rapid , especial aquell afeccion primer ola gener anticuerp sirv proteccion segund ” , explic garc navarr . la edad diferent mayor factor riesg muert coronavirus , aun asi , lej ser sentenci , inclus mayor . nuev cad 10 infect mayor 80 años segund ola recuper ; , mism , letal situ 9,4 % , nivel llev establ vari seman vez comenz asacend juli efect retras muert respect contagi . el porcentaj reduc drastic 70 79 ( 2,8 % letal , tres vec men , supon 18,5 % fallec ) sig hac med baj edad : sesenten letal 0,8 % represent 3,7 % difunt . en men 60 virus mat men 0,2 % infect sum 10 % muert . el grues mortal concentr grup mayor . en segund ola , 67,5 % fallec 80 años . esto inclus primer , franj represent 62,3 % . fern simon , director centr coordin alert emergent sanitari , explic ultim rued prens edad median fallec crec 83 años primer ola 86 segund . la posibl explic crezc mortal ( termin relat ) mayor pued deb realment baj joven . es hipotesis joan ramon villalb , portavoz socied español salud public ( sesp ) : “ ahor mejor tratamient hospitalari uci , gent ingres ahi probabil sobreviv primer ola . por , termin relat , pued pes aun mortal fragil , siqu pas hospital condicion agrav pued hac ” . en cualqui cas , diferent grand . el epidemiolog javi aguil señal demuestr dat letal virus consolid vien repit patron simil primer ola . “ los esfuerz conten aun transmision comunitari deb ir enfoc evit alcanc mayor ” , apunt . inform coronavirus - aqu pued segu ultim hor evolu pandemi - asi evolucion curv coronavirus mund - descargues aplic rastre españ - gui actuacion enfermed', 'ruid ‘ whatsapps ’ cuart bander # # # # # # # # # # # # # el objet cart militar retir presion rey dañ colateral , imag fuerz armad # # # # # # # # # # # # # en ultim dias , enmiend esquerr republican presupuest general estad ( pge ) corr polvor incendi red social militar . la enmiend seccion 14 ( ministeri defens ) propon dedic 34.624 eur “ exhum fos ” . la justif : “ el ejercit español , respons buen part asesinat republican todav hoy abandon cunet , deb implic recuper cuerp ” . la propuest prosper nadi import com justific mil enmiend parcial pge , ambient cald sensibil flor piel , militar sint ofend carg gobiern , reproch defend ejercit soci parlamentari acus asesin . no indign espontane : algui preocup fotocopi enmiend erc ( public boletin oficial ) hac circul , azuz anim . las fuerz armad español form 120.000 militar , 12 % mujer , cont reserv retir . en public , oblig guard exquisit neutral polit : priv , color , aunqu mayoritari inclin azul verd , muestr result electoral barri predomin antigu viviend militar , hoy extincion . en tem particular sensibl , pact bildu acerc pres eta ( 86 asesin band terror militar 206 guardi civil ) . tambien cuestion monarqu , part ministr unid pod ; elimin español lengu vehicul reform ley educ , pues movil oblig cambi autonom hij edad escol . su preocup tem compart part socied , atañ direct . la cesion ayunt san sebastian cuartel loyol consegu apoy pnv pge cay bomb . hac sol dos seman , 10 noviembr , secretari estad defens , esper casteleir , dich sen cuartel “ vital import ” emplaz altern reun condicion adecu . tras conoc pact , defens apresur aclar permanent ejercit ciud “ innegoci ” 48 hor anunc futur ubic , antigu hipic milit , mal hech . la pertenent mism promocion cre laz indelebl militar . de años compart juventud academi zaragoz , san javi marin nac relacion camarad rival . dec despues , sig reun cen com ( inclu rey , trat xliv promocion academi general milit ) mantien contact traves grup whatsapp . “ si vier mensaj promocion , alucin ” , confies general activ , supuest muestr . la filtracion chat compart xix promocion academi general air ( aga ) caus estupor opinion public , convenc militar adentr hac años send democraci moderniz . e indign compañer armas , vist irse sumider trabaj años transform imag ejercit hereder band gan guerr civil identific socied español , distingu ide polit territori . la lectur mil mensaj “ xix air ” retrat club jubil cont batallit juventud , trag bul inverosimil cov vomit insult “ gobiern social-comun ” , har torn part domin . sol cafet casin milit cambi movil dosis odi aument nivel insoport . sorprend sargent chusquer cafr , ebri , sin exalt mand escrib “ qued remedi fusil 26 millon ” español ( general francisc bec ) “ desvi vuel calient [ armament real ] sed hij put ” , asamble nacional cataluñ ( coronel gonzalez espin ) . la polariz polit elev diapason debat irrupcion part vox normaliz insult hiperbol ―con expresion “ gobiern ilegitim ” “ gobiern criminal ” — inclus for congres , miembr tratamient señor . tant tabern digital chat militar retir , cuy asidu ocult simpat vox : bec calific “ unic tabl salvacion ” ; gonzalez espin propon “ sum fuerz abascal ” si reaccion pp . “ por supuest gent ” , admit diput part ultra , macaren olon . el ministeri defens opto mir lad , 10 noviembr , 39 mand xix air escrib cart rey carg gobiern ofrec “ sincer apoy profund lealt ” . tod retir pod aplic codig disciplinari castrens . hab precedent : veran 2018 , cient militar rubric manifiest desagravi franc , apologi dictador justif golp 1936 . defens opto entonc expedient militar reserv , retir . la cart “ xix air ” pas desapercib sol hic eco digital extrem derech . sin embarg , aparicion nuev misiv rey , firm 25 noviembr 73 exmand xxiii promocion academi zaragoz ( inclu tenient general , dos general division cuatr brig ) encend tod alarm : trat ocurrent jubil , sin movimient concert presion rey , arrog represent ejercit , aunqu misiv sol rubric mit respect promocion . los promotor inici intent repet oper armad , logr apoy suficient ningun promocion academi naval . en cambi estrategi , elabor “ declar ” ( cart rey ) abiert retir . tuv exit modest : casi 20.000 militar situacion fuerz armad , sol 271 acept inicial firm . el manifiest , public sab , acus gobiern pon “ grav riesg unid españ orden constitucional ” , asegur defend . la paradoj principal impulsor general division retir juan chicharr , president fundacion francisc franc , dedic ensalz figur dictador amenaz ilegaliz futur ley memori democrat . lo suscrib dos tenient general ( jos perez alaman jos antoni jimenez ) , almir ( jos mar treviñ ) , nuev general division , dos contralmir , dos general auditor 18 brig ; oficial jubil . la ministr defens , margarit robl , aprovech mart intervencion debat presupuest , tribun congres , sed soberan popul , acus firmant cart intent “ implic jef estad ” , vulner neutral fuerz armad . se trat intent cort sec caden cart rey remitent castrens . el escandal gener filtracion chat llev ministr elev ton acus implic “ cobard ” , actu “ emboz ampar ” condicion milit , mientr jef cupul milit , general air miguel angel villaroy , difund insolit comunic dej clar abaj firmant represent fuerz armad . defens opto denunci cas fiscal , aleg pued hab comet delit “ usurp funcion ” pon junt antigu emple milit letr r , signif “ reserv ” ; vez palabr retir . no parec denunci recorr , segun fuent jurid . mas facil sid echarl real milit orden san hermenegild , firmant pertenec , exig miembr “ conduct intach ” . per expulsion deshonor viabl , agost pas , defens modific reglament orden añad sol pued echar milit retir si conden firm . defens , hech cat sab piens militar ―al estil “ opinion ” elev unidad transicion― , asegur riesg contagi personal activ ; pes , deb endogami ejercit , hij , sobrin niet mand cart la zarzuel . mas alla piens fuer intern , prim disciplin . nadi , aventur mejor conoc institu , va jug carrer sac pies tiest salv , cas , algun tiemp descuent busqu minut glori . eso signif cart preocup . mas alla empañ imag fuerz armad , perjudic , aunqu firmant conscient , rey . tras inici subyac doctrin antidemocrat hac tiemp super : autonom milit . segun , ejercit depend direct monarc , mand suprem , gobiern . en misiv , firmant pid felip vi . sol expres “ apoy lealt ” . ¿par ? par enfrent gobiern . en articul public pas dia 9 el far ceut , excapitan jos manuel adan , redactor cart 39 air mand rey , pas adhesion exigent : emplaz jef estad firm eventual indult pres proces . si hic cas , felip vi saldr marc constitucional . si hic , “ perd tod credibil ” , segun adan , men sector grup exmilitar pretend represent . esa tramp .', 'los comun pid dimision josep cost reunion part xenofob # # # # # # # # # # # # # demòcrat descart dej grup erc parlament # # # # # # # # # # # # # cataluny comu podem sum erc peticion dimision josep cost vicepresident parlament tras conoc particip reunion asist pequeñ part independent xenofob . en cart president cam , rog torrent , president comun asegur “ ejercici represent institu democrat incompat cualqui dialog connivent fascism racism ” pid deleg cost ningun respons president cam . los comun dan pas erc , pront limit envi tuits pid dimision cost . por part demòcrat , democristian independent escind extint uni , entreg actas parlament dej grup parlamentari republicà , integr junt esquerr republican . asi explic lun cabez visibl , antoni castellà , rued prens telemat . el jef fil erc cam , sergi sabrià , dad rot acuerd coalicion part despues trascend particip reunion convoc exmiembr assemble nacional catalan asist grup independent xenofob . sabrià ped renunci vicepresident parlament , josep cost , mism encuentr . “ nosotr ocup escañ , se har direccion esquerr ” , dich castellà pregunt si piens asist proxim plen parlament . par demòcart , erc intent sac provech electoral incident . segun castellà , deb abandon banc republican , pues pact compromis instaur republ catalan enmend gir pragmat . erc argument doming comunic , vez escuch explic demòcrat , dab rot acuerd . “ no pued romp rot ” , insist castellà . la cabez visibl demòcrat , dos diput parlament inciert potencial electoral , quit hierr particip reunion , front nacional català ( discurs inmigr ) forç cataluny , abog liber cataluñ “ coloniz español frances ” . ha dich dos “ voluntari ” part atend videollam “ escuch dec exsecretari anc ” . tambien record part pact fuerz respet derech human . en centr bronc erc junts per cataluny . sabrià ped dimision cost , segun asistent reunion dij candidat junts , laur borràs , encuentr . el vicepresident parlament , entrev cataluny ràdi , carg republican acept comet “ error personal ” particip reunion . ha acus erc usar extrem derech “ arma arrojadiz ” hac dañ junts per cataluny . el part lider carl puigdemont , oficial , dic deleg nadi particip reunion pas juev . cost milit junts . cost ped “ cordon sanitari ” extrem derech . “ nos har dañ , primer , si instrumentaliz extrem derech electoral hac dañ adversari sac redit part ” , apostill . la portavoz formacion lider carl puigdemont , elsa artadi , calific lun “ ridicul ” polem insist cost titul personal encuentr formacion busc ningun tip coalicion electoral part car 14-f. “ estas polem cost dentr independent . busc desgast person defend bander accion favor derech pres polit president torr puigdemont ” , añad .', 'la fiscal pid 24 años acus atent prostibul la jonquer # # # # # # # # # # # # # el ministeri public consider integr organiz criminal # # # # # # # # # # # # # el fiscal pid pen 4 24 años medi carcel siet acus atent vari vec , explos , macroprostibul paradis jonquer ( alt empordà ) diciembr 2012 . consider comet hech , dias 12 , 23 , 24 31 diciembr , cont “ infraestructur perfect defin establ recurs material human ” . a consider autor delit organiz criminal cad acus divers delit cuatr hech delict atribu . segun escrit acus , acus actu baj direccion lid grup —fallec diciembr 2017 viladecans ( baix llobregat ) estall bomb coloc coche— , intervin material aport medi , comet vari actos club paradis propietari , “ objet caus dañ material personal atemoriz trabaj , client dueñ ” . segun fiscal prim ataqu 12 diciembr , 06.00 , hor dos acus , rostr cubiert casc , club mot rob franci , cambi matricul . lanz dos artefact explos tnt , zon almacen , caus dañ valor 18.329,59 eur . el segund , explosion deb fall mecan , lanz cinc metr puert principal . huyeron quem mot destru prueb . hub desaloj paradis . el segund ataqu segun fiscal 23 diciembr 19.50 hor . dos acus dos identific , “ cubiert pasamontañ armad subfusil ” , dos coch , , opel astra rob castell d ’ empuri , dej entrad avis bomb ” . hab “ dos botell butan enfrent part arrib medi paquet tnt pentrit ” . huyeron porsch cayenn rob franci cambi matricul . tambien abandon tras dej calcin . este artefact tampoc estall funcion deton fall , provoc nuev desaloj prostibul . el 24 diciembr 19.30 hor acus herman —el supuest lid fallecido— , envi e-mail polic medi comun . segun fiscal , cre cuent reivindic hech dias 12 23 . el e-mail dec : “ mientr señor jos moren pag deud mantien ( sab quien deb ) segu hac explot artefact negoci , cad vez mayor potenci . esper cumpl oblig consider declar guerr abiert proced aniquil har explot ultim piedr negocio… ” . final , 22.00 hor 31 diciembr acus llam moss mecan distorsion voz dec : “ es avis bomb , traves chic introduc bomb club explosion 12 noch , evacu local ” . evacu 1.000 person club , hall explos . la investig moss d ’ esquadr culmin noviembr 2013 oper rockefell acab detencion presunt autor ataqu . tambien acus delit hurt continu , falsed documental , tenenci explos , dañ continu , amenaz , rob fuerz tentat dañ .', 'ayus justif cart exmilitar rey : “ hay español preocup ” # # # # # # # # # # # # # la president comun madr compart “ literal ” ataqu gobiern exoficial ejercit # # # # # # # # # # # # # la president comun madr , popul isabel diaz ayus , mostr doming comprens cart envi decen exmand ejercit rey denunci actuacion “ gobiern socialcomun ” . diaz ayus inclus mostr acuerd “ literal ” apel exmilitar defens unid nacional “ independent filoetarr ” . “ hay español preocup deriv tom polit ” , justific president madrileñ unas declar congres diput , asist actos conmemor 42º aniversari constitu . la dirigent popul refer exclus conten cart quer entrar polem comentari chat grup antigu oficial lleg afirm “ qued remedi empez fusil 26 millon español ” . en cuant conten escrit , replet descalif gobiern , president madrileñ declar coincident diagnost . par subray , denunci existent “ movimient intern dentr gobiern derroc constitu ” . “ inclus pon tel juici justici institu ” , añad . “ es camin pervers peligr ” . el pso madrileñ reaccion tiemp acus president comun usar “ ton condescendient , pseudogolp antidemocrat alent hac dias fusil 26 millon español ” , inform efe . argument semej ayus sid esgrim ivan espin monter , portavoz parlamentari vox , part neg detras cart identific plen conten autor . “ no dej defens constitu sol man polit ” , coment espin monter , actos institucional congres . “ la constitu defend ambit ” .', 'carrer contrarreloj constru macrocampament inmigr canari # # # # # # # # # # # # # el pais asist obras cinc seis centr aloj casi 7.000 person lleg islas # # # # # # # # # # # # # un sender estrech bord eucalipt llev viej cuartel las raic la lagun , nort tenerif . al lleg , oid tapon liger altitud , temperatur cae cuatr grad humed envuelv rop . alrededor puñ cas sencill , pared color , camp . much camp . al fond , pist aeropuert tenerif nort . el ruid excav ensordec . el barr peg zapat . en dias acuartel abandon edifici ruin mayor campament inmigr españ , capac 1.500 person . sol super cuartel las canter , la lagun , ultim nav duch comun 1.800 inmigr . la crisis migratori islas canari , adond lleg va año 20.000 person pater cayuc , sobrepas administr . despues año repunt lleg , pandemi limit ejecut expulsion , la monclo final asum situacion canari emergent ahor carrer contrarreloj resolv . el tiemp corr lleg continu . tras desmantel campament improvis muell arguineguin , aun casi 7.000 migrant acog hotel deb ser realoj proxim seman . la negat ejecut facilit grand trasl migrant recurs peninsul dej poc opcion , alla concentr desembarc islas . la secret estad migracion apost cre gran canari , tenerif fuerteventur model macrocampament temporal , inedit españ . en lugar resid inmigr regim abiert . se mantendr alli esper hipotet expulsion . las maquin las raic llev dias despej tod veloc malez , aplan tierr moj asfalt tres enorm explan instal carp bañ portatil . el cuartel sirv campament emergent crisis cayuc 2006 , entonc tiend instal direct tierr . en ocasion transform complet paisaj . sol imprevist polit ultim hor fren ritm frenet trabaj . el ayunt la lagun ( gobern pso , unid se pued avant ) paraliz obras juev mientr gestion correspondient tramit urbanist , migracion conf retom trajin sol sol cuant . la gestion lleg , 14.000 desembarc sol ultim dos mes , traduc colaps recepcion acog , escenari caos abon discurs extrem derech . por lad , falt espaci custodi policial llev ministeri interior hacin recien lleg casi cuatr mes condicion insalubr puert arguineguin . por , ministeri inclusion , segur social migracion estir red acog precari —apen 70 plaz hac año— complej hoteler vaci turist pandemi . los mes pas mientr map lugar adecu atend mil recien lleg pater . problem licenci , negat autor local acog migrant municipi resistent ministeri defens ced instal agrav crisis . los nuev campament unas 7.000 cam instal dos cuartel tenerif , gran canari cuart lanzarot , ced temporal indefinid defens . el desplieg casi termin ademas colegi barri desfavorec las palm gran canari nav oficin ced banki . aun fech defin ocup , objet comenz prox dias . en regimient canari 50 , poligon las palm gran canari , emple trags , empres public encarg obras , correte punt peg telefon . el contrat oblig levant , salv imprevist , 15 dias , tiemp perd . estab hac limpi , contrat fontaner , electric , recib puert carp cruz roj pon acuerd empres demolicion normal competidor trabaj junt . aqu , demolicion nuev nav ruin dej espaci 14.000 metr cuadr form ele . en fas emergent , cost men 43 millon eur financi fond ue , objet ten list cuant . mas adel estudi com convert aloj espaci comod permanent . per , acab obras , enorm desafi igual urgent : gestion centr tant person precedent españ . el unic espaci acog volum parec centr estanci temporal inmigr ( ceti ) melill , , capac 780 person , lleg alberg 1.700 plen pandemi . no casual director , milit excedent carl monter , experient intendent ejercit tierr , sid eleg migracion coordin tod logist islas . el dia dia nuev centr implic organiz transport , asistent medic , document , com convivent multitudinari . la gestion part campament rec cruz roj , concentr practic tod atencion humanitari islas , , previs , cruz blanc , organiz franciscan . la noved posibl entrad gestor organiz internacional migracion ( oim ) , españ dedic , program , organiz retorn voluntari . un equip tecnic ven greci , experient gestion grand aloj , visit dias cuartel tenerif . “ gestion aloj 7.000 person servici necesit ret tremend ” , asum monter . “ hay trabaj hac ” .']\n"
     ]
    }
   ],
   "source": [
    "textos = []\n",
    "y = []\n",
    "textos, y = load_texts('../despoblacion', 'despoblacion')\n",
    "textos, y = load_texts('../no_despoblacion', 'no_despoblacion', textos, y)\n",
    "\n",
    "processed_texts = token_stop_stem_lower(textos)\n",
    "X=cv_ocurrences(processed_texts)"
   ]
  },
  {
   "cell_type": "code",
   "execution_count": null,
   "metadata": {},
   "outputs": [],
   "source": []
  }
 ]
}